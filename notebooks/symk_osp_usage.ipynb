{
 "cells": [
  {
   "cell_type": "markdown",
   "id": "68dedba5",
   "metadata": {},
   "source": [
    "# Optimizing Plan Utility: Using SymK in the Unified Planning Library"
   ]
  },
  {
   "cell_type": "markdown",
   "id": "71cbaf15",
   "metadata": {},
   "source": [
    "In this notebook, we demonstrate how to optimize the utility of a planning task using SymK. To illustrate, we generate a planning task with a single truck. The task requires the delivery of various packages of different importance between locations on a graph."
   ]
  },
  {
   "cell_type": "markdown",
   "id": "65045109",
   "metadata": {},
   "source": [
    "To utilize the unified-planning library and SymK, it is necessary to install them."
   ]
  },
  {
   "cell_type": "code",
   "execution_count": null,
   "id": "8d722322",
   "metadata": {},
   "outputs": [],
   "source": [
    "!pip install --pre unified-planning\n",
    "!pip install up-symk\n",
    "!pip install matplotlib # for visualisation in this notebook"
   ]
  },
  {
   "cell_type": "code",
   "execution_count": 2,
   "id": "54204a66",
   "metadata": {
    "scrolled": true
   },
   "outputs": [],
   "source": [
    "import networkx as nx\n",
    "import matplotlib\n",
    "import random\n",
    "import sys\n",
    "import time\n",
    "import up_symk\n",
    "import unified_planning as up\n",
    "\n",
    "from collections import defaultdict\n",
    "from unified_planning.shortcuts import *\n",
    "\n",
    "seed = 1\n",
    "random.seed(seed)"
   ]
  },
  {
   "cell_type": "markdown",
   "id": "6a93c0be",
   "metadata": {},
   "source": [
    "## Validator\n",
    "We define two functions that serve as helper functions to evaluate the found plans and calculate the cost of the plans."
   ]
  },
  {
   "cell_type": "code",
   "execution_count": 3,
   "id": "32b9b080",
   "metadata": {},
   "outputs": [],
   "source": [
    "def get_plan_qualities(problem, plan):\n",
    "    qualities = []\n",
    "    for qm in problem.quality_metrics:\n",
    "        new_problem = problem.clone()\n",
    "        new_problem.clear_quality_metrics()\n",
    "        new_problem.add_quality_metric(qm)\n",
    "        pv = PlanValidator(problem_kind=new_problem.kind)\n",
    "        pv_res = pv.validate(new_problem, plan)\n",
    "        qualities.append(pv_res.metric_evaluations[qm])\n",
    "    return qualities\n",
    "\n",
    "def get_plans_min_max_qualities(problem, plans):\n",
    "    qualities = []\n",
    "    for qm in problem.quality_metrics:\n",
    "        min_q = float('inf')\n",
    "        max_q = -float('inf')\n",
    "        new_problem = problem.clone()\n",
    "        new_problem.clear_quality_metrics()\n",
    "        new_problem.add_quality_metric(qm)\n",
    "        pv = PlanValidator(problem_kind=new_problem.kind)\n",
    "        for plan in plans:\n",
    "            pv_res = pv.validate(new_problem, plan)\n",
    "            cur_q = pv_res.metric_evaluations[qm]\n",
    "            min_q = min(min_q, cur_q)\n",
    "            max_q = max(max_q, cur_q)\n",
    "        qualities.append((min_q, max_q))\n",
    "    return qualities    "
   ]
  },
  {
   "cell_type": "markdown",
   "id": "80542c9c",
   "metadata": {},
   "source": [
    "## Problem Generation\n",
    "We randomly generate a planning task where a single truck with no capacity limit has to deliver a number of parcels of different importance between locations on a graph. Note that the road network is modeled as a directed graph, and it is possible that not all parcels can be delivered."
   ]
  },
  {
   "cell_type": "code",
   "execution_count": 4,
   "id": "db40758b",
   "metadata": {},
   "outputs": [
    {
     "name": "stdout",
     "output_type": "stream",
     "text": [
      "Jobs:\n",
      "Parcel 0 from location 1 to location 5 with imporantce 1\n",
      "Parcel 1 from location 2 to location 0 with imporantce 7\n",
      "Parcel 2 from location 3 to location 4 with imporantce 6\n",
      "Parcel 3 from location 1 to location 0 with imporantce 7\n",
      "Parcel 4 from location 0 to location 4 with imporantce 6\n",
      "Parcel 5 from location 4 to location 0 with imporantce 7\n",
      "Parcel 6 from location 2 to location 1 with imporantce 9\n",
      "Parcel 7 from location 0 to location 3 with imporantce 0\n",
      "Parcel 8 from location 0 to location 1 with imporantce 8\n",
      "Parcel 9 from location 0 to location 4 with imporantce 3\n",
      "Parcel 10 from location 3 to location 0 with imporantce 8\n",
      "Parcel 11 from location 1 to location 4 with imporantce 7\n",
      "The truck is at location 4\n"
     ]
    },
    {
     "data": {
      "image/png": "[encoded data removed]",
      "text/plain": [
       "<Figure size 640x480 with 1 Axes>"
      ]
     },
     "metadata": {},
     "output_type": "display_data"
    }
   ],
   "source": [
    "def generate_problem(num_locations, num_parcels):\n",
    "    # generate a random connected graph with the locations \n",
    "    graph = nx.fast_gnp_random_graph(num_locations, 0.31, directed=True, seed=seed)\n",
    "\n",
    "    # randomly choose the origin and destination of every parcel\n",
    "    jobs = []\n",
    "    for parcel in range(num_parcels):\n",
    "        origin = random.randrange(num_locations) \n",
    "        destination = random.choice([x for x in range(num_locations)\n",
    "                                     if x != origin])\n",
    "        importance = random.randrange(10)\n",
    "        jobs.append((origin, destination, importance))\n",
    "\n",
    "\n",
    "    # randlomly choose a truck location\n",
    "    truck_location = random.randrange(num_locations)\n",
    "    return graph, jobs, truck_location\n",
    "\n",
    "num_locations = 6\n",
    "num_parcels = 12\n",
    "graph, jobs, truck_location = generate_problem(num_locations, num_parcels)\n",
    "\n",
    "nx.draw_networkx(graph, with_labels=True, arrows=True, arrowsize=12) # uncomment if you do not have matplotlib\n",
    "print(\"Jobs:\")\n",
    "for parcel_id, (origin, destination, importance) in enumerate(jobs):\n",
    "    print('Parcel', parcel_id, 'from location', origin,\n",
    "          'to location', destination, \"with imporantce\", importance) \n",
    "print('The truck is at location', truck_location)"
   ]
  },
  {
   "cell_type": "markdown",
   "id": "ddf47eec",
   "metadata": {},
   "source": [
    "The possible actions in the planning task are to move the truck from a location to a connected location, to load a parcel (if the truck is at the same location), and to unload the parcel at the destination location.\n",
    "\n",
    "We use a unary predicate ``truck_at`` and a binary predicate ``parcel_at`` to represent the locations of the truck and all the parcels. The unary predicates ``parcel_loaded`` and ``delivered`` express that a parcel is in the truck or has been delivered. The destinations of the parcels are represented by the binary predicate ``destination`` and the connections (edges) by the binary predicate ``connected``. \n",
    "\n",
    "The goal is oversubscribed in the sense that for each parcel we successfully deliver, we get the importance value of the parcel."
   ]
  },
  {
   "cell_type": "code",
   "execution_count": 5,
   "id": "23a8eefa",
   "metadata": {},
   "outputs": [
    {
     "name": "stdout",
     "output_type": "stream",
     "text": [
      "Goals with utilities:\n",
      "delivered(parcel0) 1\n",
      "delivered(parcel1) 7\n",
      "delivered(parcel2) 6\n",
      "delivered(parcel3) 7\n",
      "delivered(parcel4) 6\n",
      "delivered(parcel5) 7\n",
      "delivered(parcel6) 9\n",
      "delivered(parcel7) 0\n",
      "delivered(parcel8) 8\n",
      "delivered(parcel9) 3\n",
      "delivered(parcel10) 8\n",
      "delivered(parcel11) 7\n"
     ]
    }
   ],
   "source": [
    "def get_planning_task(graph, jobs, truck_location):\n",
    "    num_parcels = len(jobs)\n",
    "    num_locations = len(graph)\n",
    "    # declare user types\n",
    "    Location = UserType('Location')\n",
    "    Parcel = UserType('Parcel')\n",
    "\n",
    "    # declare predicates\n",
    "    truck_at = up.model.Fluent('truck_at', BoolType(), l=Location)\n",
    "    parcel_at = up.model.Fluent('parcel_at', BoolType(), p=Parcel, l=Location)\n",
    "    parcel_loaded = up.model.Fluent('parcel_loaded', BoolType(), p=Parcel)\n",
    "    delivered = up.model.Fluent('delivered', BoolType(), p=Parcel)\n",
    "    destination = up.model.Fluent('destination', BoolType(), p=Parcel, l=Location)\n",
    "    connected = up.model.Fluent('connected', BoolType(), l_from=Location, l_to=Location)\n",
    "\n",
    "    # add (typed) objects to problem\n",
    "    problem = up.model.Problem('parcels')\n",
    "    locations = [up.model.Object('loc%s' % i, Location)\n",
    "                 for i in range(num_locations)]\n",
    "    parcels = [up.model.Object('parcel%s' % i, Parcel)\n",
    "               for i in range(num_parcels)]\n",
    "    problem.add_objects(locations)\n",
    "    problem.add_objects(parcels)\n",
    "\n",
    "    # specify the initial state\n",
    "    problem.add_fluent(truck_at, default_initial_value=False)\n",
    "    problem.add_fluent(parcel_at, default_initial_value=False)\n",
    "    problem.add_fluent(parcel_loaded, default_initial_value=False)\n",
    "    problem.add_fluent(delivered, default_initial_value=False)\n",
    "    problem.add_fluent(destination, default_initial_value=False)\n",
    "    problem.add_fluent(connected, default_initial_value=False)\n",
    "    for parcel_id, (origin, dest, _) in enumerate(jobs):\n",
    "        p = parcels[parcel_id]\n",
    "        problem.set_initial_value(parcel_at(p, locations[origin]), True)\n",
    "        problem.set_initial_value(destination(p, locations[dest]), True)\n",
    "    for (l1, l2) in graph.edges():\n",
    "        problem.set_initial_value(connected(locations[l1], locations[l2]), True)\n",
    "        # problem.set_initial_value(connected(locations[l2], locations[l1]), True)\n",
    "    problem.set_initial_value(truck_at(locations[truck_location]), True)\n",
    "\n",
    "    # add actions\n",
    "    move = up.model.InstantaneousAction('move', l_from=Location, l_to=Location)\n",
    "    l_from = move.parameter('l_from')\n",
    "    l_to = move.parameter('l_to')\n",
    "    move.add_precondition(connected(l_from, l_to))\n",
    "    move.add_precondition(truck_at(l_from))\n",
    "    move.add_effect(truck_at(l_from), False)\n",
    "    move.add_effect(truck_at(l_to), True)\n",
    "    problem.add_action(move)\n",
    "\n",
    "    load = up.model.InstantaneousAction('load', p=Parcel, l=Location)\n",
    "    p = load.parameter('p')\n",
    "    loc = load.parameter('l')\n",
    "    load.add_precondition(truck_at(loc))\n",
    "    load.add_precondition(parcel_at(p, loc))\n",
    "    load.add_effect(parcel_at(p, loc), False)\n",
    "    load.add_effect(parcel_loaded(p), True)\n",
    "    problem.add_action(load)\n",
    "\n",
    "    unload = up.model.InstantaneousAction('unload', p=Parcel, l=Location)\n",
    "    p = unload.parameter('p')\n",
    "    loc = unload.parameter('l')\n",
    "    unload.add_precondition(truck_at(loc))\n",
    "    unload.add_precondition(parcel_loaded(p))\n",
    "    unload.add_precondition(destination(p, loc))\n",
    "    unload.add_effect(delivered(p), True)\n",
    "    unload.add_effect(parcel_loaded(p), False)\n",
    "    problem.add_action(unload)\n",
    "    \n",
    "    # specify the goal: all parcels should have been delivered\n",
    "    goals = {}\n",
    "    for parcel_id, (_, _, importance) in enumerate(jobs):\n",
    "        p = parcels[parcel_id]\n",
    "        goals[delivered(p)] = importance\n",
    "        \n",
    "    problem.add_quality_metric(up.model.metrics.Oversubscription(goals))\n",
    "    \n",
    "    return problem\n",
    "\n",
    "problem = get_planning_task(graph, jobs, truck_location)\n",
    "print(\"Goals with utilities:\")\n",
    "for g, u in problem.quality_metrics[0].goals.items():\n",
    "    print(g, u)"
   ]
  },
  {
   "cell_type": "markdown",
   "id": "0ab4f15e",
   "metadata": {},
   "source": [
    "## Finding a single optimal solution\n",
    "We solve our problem optimally with ``symk-opt``, i.e., we find a plan with the highest possible utility."
   ]
  },
  {
   "cell_type": "code",
   "execution_count": 6,
   "id": "8d28bee7",
   "metadata": {},
   "outputs": [
    {
     "name": "stdout",
     "output_type": "stream",
     "text": [
      "\u001b[96m\u001b[1mNOTE: To disable printing of planning engine credits, add this line to your code: `up.shortcuts.get_environment().credits_stream = None`\n",
      "\u001b[0m\u001b[96m  *** Credits ***\n",
      "\u001b[0m\u001b[96m  * In operation mode `OneshotPlanner` at line 1 of `/tmp/ipykernel_22320/1197866876.py`, \u001b[0m\u001b[96myou are using the following planning engine:\n",
      "\u001b[0m\u001b[96m  * Engine name: SymK\n",
      "  * Developers:  David Speck (cf. https://github.com/speckdavid/symk/blob/master/README.md )\n",
      "\u001b[0m\u001b[96m  * Description: \u001b[0m\u001b[96mSymK is a state-of-the-art domain-independent optimal and top-k planner.\u001b[0m\u001b[96m\n",
      "\u001b[0m\u001b[96m\n",
      "\u001b[0mSymK (with optimality guarantee) returned: SequentialPlan:\n",
      "    move(loc4, loc3)\n",
      "    load(parcel2, loc3)\n",
      "    move(loc3, loc5)\n",
      "    move(loc5, loc4)\n",
      "    unload(parcel2, loc4)\n",
      "    move(loc4, loc2)\n",
      "    load(parcel6, loc2)\n",
      "    move(loc2, loc1)\n",
      "    unload(parcel6, loc1)\n",
      "    load(parcel11, loc1)\n",
      "    load(parcel0, loc1)\n",
      "    move(loc1, loc5)\n",
      "    unload(parcel0, loc5)\n",
      "    move(loc5, loc4)\n",
      "    unload(parcel11, loc4) with a utility of 23 in 0.377908 seconds.\n"
     ]
    }
   ],
   "source": [
    "with OneshotPlanner(name=\"symk-opt\") as planner:\n",
    "    start_time = time.time()\n",
    "    result = planner.solve(problem)\n",
    "    execution_time = time.time() - start_time \n",
    "    plan = result.plan\n",
    "    assert plan is not None\n",
    "    qualities = get_plan_qualities(problem, plan)\n",
    "    assert len(qualities) == 1\n",
    "    utility = qualities[0]\n",
    "    print(f\"{planner.name} returned: {result.plan} with a utility of {utility} in {execution_time:.6f} seconds.\")\n",
    "    \n",
    "# We do not want to see the credits again and again, so let's disable them from now on.\n",
    "up.shortcuts.get_environment().credits_stream = None"
   ]
  },
  {
   "cell_type": "markdown",
   "id": "1fb01403",
   "metadata": {},
   "source": [
    "We can also use the ``oversubscription`` meta-engine (here with ``tamer``). However, this has some disadvantages compared to using ``symk-opt`` or ``symk``, which supports oversubscription tasks natively. The meta-engine employs a compilation technique, generating a planning task for the powerset of all goals, which can result in significant exponential overhead, as evident to some extent in this example. Furthermore, planning engines based on Fast Downward may not be able to handle the negated goal facts introduced by the compilation. We recommend the use of ``symk-opt`` or ``symk``."
   ]
  },
  {
   "cell_type": "code",
   "execution_count": null,
   "id": "22c14474",
   "metadata": {},
   "outputs": [],
   "source": [
    "!pip install up_tamer"
   ]
  },
  {
   "cell_type": "code",
   "execution_count": 8,
   "id": "29752b7d",
   "metadata": {},
   "outputs": [
    {
     "name": "stdout",
     "output_type": "stream",
     "text": [
      "OversubscriptionPlanner[Tamer] returned: SequentialPlan:\n",
      "    move(loc4, loc1)\n",
      "    load(parcel0, loc1)\n",
      "    load(parcel11, loc1)\n",
      "    move(loc1, loc5)\n",
      "    unload(parcel0, loc5)\n",
      "    move(loc5, loc4)\n",
      "    unload(parcel11, loc4)\n",
      "    move(loc4, loc2)\n",
      "    load(parcel6, loc2)\n",
      "    move(loc2, loc1)\n",
      "    unload(parcel6, loc1)\n",
      "    move(loc1, loc5)\n",
      "    move(loc5, loc4)\n",
      "    move(loc4, loc3)\n",
      "    load(parcel2, loc3)\n",
      "    move(loc3, loc5)\n",
      "    move(loc5, loc4)\n",
      "    unload(parcel2, loc4) with a utility of 23 in 47.994342 seconds.\n"
     ]
    }
   ],
   "source": [
    "with OneshotPlanner(name=\"oversubscription[tamer]\") as planner:\n",
    "    start_time = time.time()\n",
    "    result = planner.solve(problem)\n",
    "    execution_time = time.time() - start_time \n",
    "    plan = result.plan\n",
    "    assert plan is not None\n",
    "    qualities = get_plan_qualities(problem, plan)\n",
    "    assert len(qualities) == 1\n",
    "    utility = qualities[0]\n",
    "    print(f\"{planner.name} returned: {result.plan} with a utility of {utility} in {execution_time:.6f} seconds.\")"
   ]
  },
  {
   "cell_type": "markdown",
   "id": "be3b9356",
   "metadata": {},
   "source": [
    "## Finding a single optimal solution for a given cost bound\n",
    "With ``symk-opt`` it is possible to find the best solution, i.e., the solution that maximizes the utility of the end state with respect to a given cost bound (here: plan length) that can be specified as an additional parameter. Here we ask for a solution that maximizes utility and has a cost lower than 7."
   ]
  },
  {
   "cell_type": "code",
   "execution_count": 9,
   "id": "2d93cba3",
   "metadata": {},
   "outputs": [
    {
     "name": "stdout",
     "output_type": "stream",
     "text": [
      "SymK (with optimality guarantee) returned: SequentialPlan:\n",
      "    move(loc4, loc2)\n",
      "    load(parcel6, loc2)\n",
      "    move(loc2, loc1)\n",
      "    unload(parcel6, loc1) with a utility of 9 and plan length of 4 in 0.357141 seconds.\n"
     ]
    }
   ],
   "source": [
    "if MinimizeSequentialPlanLength() not in problem.quality_metrics:\n",
    "    problem.add_quality_metric(MinimizeSequentialPlanLength())\n",
    "\n",
    "with OneshotPlanner(name=\"symk-opt\", params={\"plan_cost_bound\": 7}) as planner:\n",
    "    start_time = time.time()\n",
    "    result = planner.solve(problem)\n",
    "    execution_time = time.time() - start_time \n",
    "    plan = result.plan\n",
    "    assert plan is not None\n",
    "    qualities = get_plan_qualities(problem, plan)\n",
    "    assert len(qualities) == 2\n",
    "    utility, plan_length = qualities\n",
    "    print(f\"{planner.name} returned: {result.plan} with a utility of {utility} and plan length of {plan_length} in {execution_time:.6f} seconds.\")"
   ]
  },
  {
   "cell_type": "markdown",
   "id": "74a7c96f",
   "metadata": {},
   "source": [
    "## Finding multiple optimal solutions\n",
    "We solve the problem with ``symk-opt`` and ask for all optimal solutions, i.e., all solutions that maximize utility at potentially different costs (here: plan length)."
   ]
  },
  {
   "cell_type": "code",
   "execution_count": 10,
   "id": "68bdf52e",
   "metadata": {},
   "outputs": [
    {
     "name": "stdout",
     "output_type": "stream",
     "text": [
      "SymK (with optimality guarantee) found 100 plans...\n",
      "SymK (with optimality guarantee) found 200 plans...\n",
      "SymK (with optimality guarantee) found 300 plans...\n",
      "SymK (with optimality guarantee) found 400 plans...\n",
      "SymK (with optimality guarantee) found 500 plans...\n",
      "SymK (with optimality guarantee) found 600 plans...\n",
      "SymK (with optimality guarantee) found 700 plans...\n",
      "SymK (with optimality guarantee) found 800 plans...\n",
      "\n",
      "SymK (with optimality guarantee) found 858 plans!\n",
      "\n",
      "Calculate the utlities and costs of the plans found...\n",
      "SymK (with optimality guarantee) found 858 plans with utility 23 and costs between 15 and 18.\n"
     ]
    }
   ],
   "source": [
    "plans = []\n",
    "\n",
    "with AnytimePlanner(name='symk-opt') as planner:\n",
    "    for i, result in enumerate(planner.get_solutions(problem)):\n",
    "        if result.status == up.engines.PlanGenerationResultStatus.INTERMEDIATE:\n",
    "            plans.append(result.plan)\n",
    "            if i > 0 and i % 100 == 0:\n",
    "                print(f\"{planner.name} found {i} plans...\")\n",
    "        elif result.status in unified_planning.engines.results.POSITIVE_OUTCOMES:\n",
    "            print()\n",
    "            print(f\"{planner.name} found {i} plans!\")\n",
    "            print()\n",
    "        elif result.status not in unified_planning.engines.results.POSITIVE_OUTCOMES:\n",
    "            print(\"No plan found.\")\n",
    "            \n",
    "# Calculate the utlities and costs of the plans found\n",
    "print(\"Calculate the utlities and costs of the plans found...\")\n",
    "\n",
    "utils, costs = get_plans_min_max_qualities(problem, plans)\n",
    "assert utils[0] == utils[1]\n",
    "    \n",
    "print(f\"{planner.name} found {len(plans)} plans with utility {utils[0]} and costs between {costs[0]} and {costs[1]}.\")"
   ]
  },
  {
   "cell_type": "markdown",
   "id": "49c5cf78",
   "metadata": {},
   "source": [
    "## Find multiple solutions ordered by utility\n",
    "Again we solve our problem, this time asking for 250 plans with cost less than 10. Our ``symk`` engine produces the solutions ordered by utility and then by cost (here: plan length), starting with the best ones, so that we find solutions that vary in utility and cost."
   ]
  },
  {
   "cell_type": "code",
   "execution_count": 11,
   "id": "cb26c497",
   "metadata": {},
   "outputs": [
    {
     "name": "stdout",
     "output_type": "stream",
     "text": [
      "SymK found 100 plans...\n",
      "SymK found 200 plans...\n",
      "\n",
      "SymK found 250 plans!\n",
      "\n",
      "Calculate the utlities and costs of the plans found...\n",
      "SymK found 250 plans with utilities between 16 and 1 and costs between 4 and 9.\n"
     ]
    }
   ],
   "source": [
    "plans = []\n",
    "\n",
    "with AnytimePlanner(name='symk', params={\"plan_cost_bound\": 10, \"number_of_plans\": 250}) as planner:\n",
    "    for i, result in enumerate(planner.get_solutions(problem)):\n",
    "        if result.status == up.engines.PlanGenerationResultStatus.INTERMEDIATE:\n",
    "            plans.append(result.plan)\n",
    "            if i > 0 and i % 100 == 0:\n",
    "                print(f\"{planner.name} found {i} plans...\")\n",
    "        elif result.status in unified_planning.engines.results.POSITIVE_OUTCOMES:\n",
    "            print()\n",
    "            print(f\"{planner.name} found {i} plans!\")\n",
    "            print()\n",
    "        elif result.status not in unified_planning.engines.results.POSITIVE_OUTCOMES:\n",
    "            print(\"No plan found.\")\n",
    "            \n",
    "# Calculate the utlities and costs of the plans found\n",
    "print(\"Calculate the utlities and costs of the plans found...\")\n",
    "\n",
    "utils, costs = get_plans_min_max_qualities(problem, plans)\n",
    "    \n",
    "print(f\"{planner.name} found {len(plans)} plans with utilities between {utils[1]} and {utils[0]} and costs between {costs[0]} and {costs[1]}.\")"
   ]
  }
 ],
 "metadata": {
  "kernelspec": {
   "display_name": "test-plan4eu",
   "language": "python",
   "name": "test-plan4eu"
  },
  "language_info": {
   "codemirror_mode": {
    "name": "ipython",
    "version": 3
   },
   "file_extension": ".py",
   "mimetype": "text/x-python",
   "name": "python",
   "nbconvert_exporter": "python",
   "pygments_lexer": "ipython3",
   "version": "3.10.13"
  }
 },
 "nbformat": 4,
 "nbformat_minor": 5
}
