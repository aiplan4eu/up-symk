{
 "cells": [
  {
   "cell_type": "code",
   "execution_count": 1,
   "id": "54204a66",
   "metadata": {},
   "outputs": [],
   "source": [
    "import sys\n",
    "from unified_planning.shortcuts import *\n",
    "from collections import defaultdict\n",
    "from unified_planning.io import PDDLWriter"
   ]
  },
  {
   "cell_type": "code",
   "execution_count": 2,
   "id": "db40758b",
   "metadata": {},
   "outputs": [],
   "source": [
    "Location = UserType('Location')\n",
    "Robot = UserType('Robot')\n",
    "\n",
    "at = Fluent('at', BoolType(), robot=Robot, location=Location)\n",
    "visited = Fluent('visited', BoolType(), robot=Robot, location=Location)\n",
    "connected = Fluent('connected', BoolType(), l_from=Location, l_to=Location)"
   ]
  },
  {
   "cell_type": "code",
   "execution_count": 3,
   "id": "23a8eefa",
   "metadata": {},
   "outputs": [],
   "source": [
    "move = InstantaneousAction('move', robot=Robot, l_from=Location, l_to=Location)\n",
    "robot = move.parameter('robot')\n",
    "l_from = move.parameter('l_from')\n",
    "l_to = move.parameter('l_to')\n",
    "move.add_precondition(at(robot, l_from))\n",
    "move.add_precondition(connected(l_from, l_to))\n",
    "move.add_effect(at(robot, l_from), False)\n",
    "move.add_effect(at(robot, l_to), True)\n",
    "move.add_effect(visited(robot, l_to), True)"
   ]
  },
  {
   "cell_type": "code",
   "execution_count": 4,
   "id": "8d28bee7",
   "metadata": {},
   "outputs": [],
   "source": [
    "r1 = Object('r1', Robot)\n",
    "NLOC = 10\n",
    "locations = [Object('l%s' % i, Location) for i in range(NLOC)]\n",
    "\n",
    "problem = Problem('robot_with_simulated_effects')\n",
    "problem.add_fluent(at, default_initial_value=False)\n",
    "problem.add_fluent(visited, default_initial_value=False)\n",
    "problem.add_fluent(connected, default_initial_value=False)\n",
    "problem.add_action(move)\n",
    "\n",
    "problem.add_object(r1)\n",
    "problem.add_objects(locations)\n",
    "\n",
    "problem.set_initial_value(at(r1, locations[0]), True)\n",
    "problem.set_initial_value(visited(r1, locations[0]), True)\n",
    "for i in range(NLOC - 1):\n",
    "    problem.set_initial_value(connected(locations[i], locations[i+1]), True)\n",
    "problem.set_initial_value(connected(locations[4], locations[8]), True)"
   ]
  },
  {
   "cell_type": "code",
   "execution_count": 5,
   "id": "69c01782",
   "metadata": {},
   "outputs": [],
   "source": [
    "goals = {}\n",
    "goals[visited(r1, locations[5])] = -5\n",
    "goals[visited(r1, locations[7])] = 6\n",
    "goals[visited(r1, locations[9])] = 10\n",
    "#goals[visited(r1, locations[9])] = 20\n",
    "\n",
    "problem.add_quality_metric(up.model.metrics.Oversubscription(goals))"
   ]
  },
  {
   "cell_type": "code",
   "execution_count": 6,
   "id": "05ed716c",
   "metadata": {},
   "outputs": [
    {
     "name": "stdout",
     "output_type": "stream",
     "text": [
      "OversubscriptionPlanner[SymK] returned: SequentialPlan:\n",
      "    move(r1, l0, l1)\n",
      "    move(r1, l1, l2)\n",
      "    move(r1, l2, l3)\n",
      "    move(r1, l3, l4)\n",
      "    move(r1, l4, l5)\n",
      "    move(r1, l5, l6)\n",
      "    move(r1, l6, l7)\n",
      "    move(r1, l7, l8)\n",
      "    move(r1, l8, l9)\n"
     ]
    }
   ],
   "source": [
    "with OneshotPlanner(name=\"oversubscription[symk]\") as planner:\n",
    "    result = planner.solve(problem)\n",
    "    plan = result.plan\n",
    "    assert plan is not None\n",
    "    print(\"%s returned: %s\" % (planner.name, result.plan))"
   ]
  },
  {
   "cell_type": "code",
   "execution_count": 8,
   "id": "253b5799",
   "metadata": {},
   "outputs": [
    {
     "name": "stdout",
     "output_type": "stream",
     "text": [
      "\u001b[96m\u001b[1mNOTE: To disable printing of planning engine credits, add this line to your code: `up.shortcuts.get_environment().credits_stream = None`\n",
      "\u001b[0m\u001b[96m  *** Credits ***\n",
      "\u001b[0m\u001b[96m  * In operation mode `OneshotPlanner` at line 1 of `/tmp/ipykernel_78959/2499456800.py`, \u001b[0m\u001b[96myou are using the following planning engine:\n",
      "\u001b[0m\u001b[96m  * Engine name: SymK\n",
      "  * Developers:  David Speck (cf. https://github.com/speckdavid/symk/blob/master/README.md )\n",
      "\u001b[0m\u001b[96m  * Description: \u001b[0m\u001b[96mSymK is a state-of-the-art domain-independent optimal and top-k planner.\u001b[0m\u001b[96m\n",
      "\u001b[0m\u001b[96m\n",
      "\u001b[0mSymK returned: SequentialPlan:\n",
      "    move(r1, l0, l1)\n",
      "    move(r1, l1, l2)\n",
      "    move(r1, l2, l3)\n",
      "    move(r1, l3, l4)\n",
      "    move(r1, l4, l5)\n",
      "    move(r1, l5, l6)\n",
      "    move(r1, l6, l7)\n",
      "    move(r1, l7, l8)\n",
      "    move(r1, l8, l9)\n"
     ]
    }
   ],
   "source": [
    "with OneshotPlanner(name=\"symk\") as planner:\n",
    "    result = planner.solve(problem)\n",
    "    plan = result.plan\n",
    "    assert plan is not None\n",
    "    print(\"%s returned: %s\" % (planner.name, result.plan))"
   ]
  },
  {
   "cell_type": "code",
   "execution_count": 9,
   "id": "46285592",
   "metadata": {},
   "outputs": [
    {
     "name": "stdout",
     "output_type": "stream",
     "text": [
      "\u001b[96m  *** Credits ***\n",
      "\u001b[0m\u001b[96m  * In operation mode `OneshotPlanner` at line 1 of `/tmp/ipykernel_78959/2446649554.py`, \u001b[0m\u001b[96myou are using the following planning engine:\n",
      "\u001b[0m\u001b[96m  * Engine name: SymK\n",
      "  * Developers:  David Speck (cf. https://github.com/speckdavid/symk/blob/master/README.md )\n",
      "\u001b[0m\u001b[96m  * Description: \u001b[0m\u001b[96mSymK is a state-of-the-art domain-independent optimal and top-k planner.\u001b[0m\u001b[96m\n",
      "\u001b[0m\u001b[96m\n",
      "\u001b[0mSymK returned: SequentialPlan:\n",
      "    move(r1, l0, l1)\n",
      "    move(r1, l1, l2)\n",
      "    move(r1, l2, l3)\n",
      "    move(r1, l3, l4)\n",
      "    move(r1, l4, l8)\n",
      "    move(r1, l8, l9)\n"
     ]
    }
   ],
   "source": [
    "with OneshotPlanner(name=\"symk\", params={\"plan_cost_bound\": 7}) as planner:\n",
    "    result = planner.solve(problem)\n",
    "    plan = result.plan\n",
    "    assert plan is not None\n",
    "    print(\"%s returned: %s\" % (planner.name, result.plan))"
   ]
  },
  {
   "cell_type": "code",
   "execution_count": null,
   "id": "bf6b1b4f",
   "metadata": {},
   "outputs": [],
   "source": [
    "with OneshotPlanner(name=\"symk-opt\", params={\"plan_cost_bound\": 200}) as planner:\n",
    "    result = planner.solve(problem, output_stream=sys.stdout)\n",
    "    plan = result.plan\n",
    "    assert plan is not None\n",
    "    print(\"%s returned: %s\" % (planner.name, result.plan))"
   ]
  },
  {
   "cell_type": "code",
   "execution_count": null,
   "id": "a73a4755",
   "metadata": {},
   "outputs": [],
   "source": [
    "plans_by_utility = defaultdict(lambda: [])\n",
    "pv = PlanValidator(problem_kind=problem.kind)\n",
    "\n",
    "with AnytimePlanner(name='symk', params={\"number_of_plans\": 3}) as planner:\n",
    "    for i, result in enumerate(planner.get_solutions(problem, output_stream=sys.stdout)): # output_stream=sys.stdout): \n",
    "        if result.status == up.engines.PlanGenerationResultStatus.INTERMEDIATE:\n",
    "            pv_res = pv.validate(problem, result.plan)\n",
    "            utility = pv_res.metric_evaluations[problem.quality_metrics[0]]\n",
    "            plans_by_utility[utility].append(result.plan)\n",
    "            print(f\"{planner.name} found {i} plans...\")\n",
    "        elif result.status in unified_planning.engines.results.POSITIVE_OUTCOMES:\n",
    "            print()\n",
    "            print(f\"{planner.name} found {i} plans!\")\n",
    "            for cost, plans in plans_by_utility.items():\n",
    "                print(f\"{planner.name} found {len(plans)} plans with utilites {cost}.\")\n",
    "        elif result.status not in unified_planning.engines.results.POSITIVE_OUTCOMES:\n",
    "            print(\"No plan found.\") "
   ]
  },
  {
   "cell_type": "code",
   "execution_count": null,
   "id": "98fd1bd5",
   "metadata": {},
   "outputs": [],
   "source": [
    "plans_by_utility = defaultdict(lambda: [])\n",
    "pv = PlanValidator(problem_kind=problem.kind)\n",
    "\n",
    "with AnytimePlanner(name='symk-opt', params={\"number_of_plans\": 3}) as planner:\n",
    "    for i, result in enumerate(planner.get_solutions(problem, output_stream=sys.stdout)): # output_stream=sys.stdout): \n",
    "        if result.status == up.engines.PlanGenerationResultStatus.INTERMEDIATE:\n",
    "            pv_res = pv.validate(problem, result.plan)\n",
    "            utility = pv_res.metric_evaluations[problem.quality_metrics[0]]\n",
    "            plans_by_utility[utility].append(result.plan)\n",
    "            print(f\"{planner.name} found {i+1} plans...\")\n",
    "        elif result.status in unified_planning.engines.results.POSITIVE_OUTCOMES:\n",
    "            print()\n",
    "            print(f\"{planner.name} found {i+1} plans!\")\n",
    "            for cost, plans in plans_by_utility.items():\n",
    "                print(f\"{planner.name} found {len(plans)} plans with utilites {cost}.\")\n",
    "        elif result.status not in unified_planning.engines.results.POSITIVE_OUTCOMES:\n",
    "            print(\"No plan found.\")"
   ]
  },
  {
   "cell_type": "code",
   "execution_count": null,
   "id": "d254227b",
   "metadata": {},
   "outputs": [],
   "source": [
    "# Validator\n",
    "# problem.clear_quality_metrics()\n",
    "# problem.add_quality_metric(MinimizeSequentialPlanLength())\n",
    "# pv = PlanValidator(problem_kind=problem.kind)\n",
    "# pv_res = pv.validate(problem, result.plan)\n",
    "# pv_res.metric_evaluations[problem.quality_metrics[0]]"
   ]
  }
 ],
 "metadata": {
  "kernelspec": {
   "display_name": "aiplan4eu3.10",
   "language": "python",
   "name": "aiplan4eu3.10"
  },
  "language_info": {
   "codemirror_mode": {
    "name": "ipython",
    "version": 3
   },
   "file_extension": ".py",
   "mimetype": "text/x-python",
   "name": "python",
   "nbconvert_exporter": "python",
   "pygments_lexer": "ipython3",
   "version": "3.10.11"
  }
 },
 "nbformat": 4,
 "nbformat_minor": 5
}
