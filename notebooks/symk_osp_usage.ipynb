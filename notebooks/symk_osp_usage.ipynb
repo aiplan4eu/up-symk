{
 "cells": [
  {
   "cell_type": "code",
   "execution_count": 1,
   "id": "54204a66",
   "metadata": {},
   "outputs": [],
   "source": [
    "import sys\n",
    "from unified_planning.shortcuts import *"
   ]
  },
  {
   "cell_type": "code",
   "execution_count": 2,
   "id": "db40758b",
   "metadata": {},
   "outputs": [],
   "source": [
    "Location = UserType('Location')\n",
    "Robot = UserType('Robot')\n",
    "\n",
    "at = Fluent('at', BoolType(), robot=Robot, location=Location)\n",
    "visited = Fluent('visited', BoolType(), robot=Robot, location=Location)\n",
    "connected = Fluent('connected', BoolType(), l_from=Location, l_to=Location)"
   ]
  },
  {
   "cell_type": "code",
   "execution_count": 3,
   "id": "23a8eefa",
   "metadata": {},
   "outputs": [],
   "source": [
    "move = InstantaneousAction('move', robot=Robot, l_from=Location, l_to=Location)\n",
    "robot = move.parameter('robot')\n",
    "l_from = move.parameter('l_from')\n",
    "l_to = move.parameter('l_to')\n",
    "move.add_precondition(at(robot, l_from))\n",
    "move.add_precondition(connected(l_from, l_to))\n",
    "move.add_effect(at(robot, l_from), False)\n",
    "move.add_effect(at(robot, l_to), True)\n",
    "move.add_effect(visited(robot, l_to), True)"
   ]
  },
  {
   "cell_type": "code",
   "execution_count": 4,
   "id": "8d28bee7",
   "metadata": {},
   "outputs": [],
   "source": [
    "r1 = Object('r1', Robot)\n",
    "NLOC = 10\n",
    "locations = [Object('l%s' % i, Location) for i in range(NLOC)]\n",
    "\n",
    "problem = Problem('robot_with_simulated_effects')\n",
    "problem.add_fluent(at, default_initial_value=False)\n",
    "problem.add_fluent(visited, default_initial_value=False)\n",
    "problem.add_fluent(connected, default_initial_value=False)\n",
    "problem.add_action(move)\n",
    "\n",
    "problem.add_object(r1)\n",
    "problem.add_objects(locations)\n",
    "\n",
    "problem.set_initial_value(at(r1, locations[0]), True)\n",
    "problem.set_initial_value(visited(r1, locations[0]), True)\n",
    "for i in range(NLOC - 1):\n",
    "    problem.set_initial_value(connected(locations[i], locations[i+1]), True)\n",
    "problem.set_initial_value(connected(locations[4], locations[8]), True)"
   ]
  },
  {
   "cell_type": "code",
   "execution_count": 5,
   "id": "69c01782",
   "metadata": {},
   "outputs": [],
   "source": [
    "goals = {}\n",
    "goals[visited(r1, locations[5])] = -5\n",
    "goals[visited(r1, locations[7])] = 4\n",
    "goals[visited(r1, locations[9])] = 10\n",
    "goals[visited(r1, locations[9])] = 20\n",
    "\n",
    "problem.add_quality_metric(up.model.metrics.Oversubscription(goals))"
   ]
  },
  {
   "cell_type": "code",
   "execution_count": 6,
   "id": "253b5799",
   "metadata": {},
   "outputs": [
    {
     "name": "stdout",
     "output_type": "stream",
     "text": [
      "\u001b[96m\u001b[1mNOTE: To disable printing of planning engine credits, add this line to your code: `up.shortcuts.get_environment().credits_stream = None`\n",
      "\u001b[0m\u001b[96m  *** Credits ***\n",
      "\u001b[0m\u001b[96m  * In operation mode `OneshotPlanner` at line 1 of `/tmp/ipykernel_39777/1572416823.py`, \u001b[0m\u001b[96myou are using the following planning engine:\n",
      "\u001b[0m\u001b[96m  * Engine name: SymK\n",
      "  * Developers:  David Speck (cf. https://github.com/speckdavid/symk/blob/master/README.md )\n",
      "\u001b[0m\u001b[96m  * Description: \u001b[0m\u001b[96mSymK is a state-of-the-art domain-independent classical optimal and top-k planner.\u001b[0m\u001b[96m\n",
      "\u001b[0m\u001b[96m\n",
      "\u001b[0m[]\n",
      "(define (domain robot_with_simulated_effects-domain)\n",
      " (:requirements :strips :typing)\n",
      " (:types robot location)\n",
      " (:predicates (at_ ?robot - robot ?location - location) (visited ?robot - robot ?location - location) (connected ?l_from - location ?l_to - location))\n",
      " (:action move\n",
      "  :parameters ( ?robot - robot ?l_from - location ?l_to - location)\n",
      "  :precondition (and (at_ ?robot ?l_from) (connected ?l_from ?l_to))\n",
      "  :effect (and (not (at_ ?robot ?l_from)) (at_ ?robot ?l_to) (visited ?robot ?l_to)))\n",
      ")\n",
      "\n",
      "(define (problem robot_with_simulated_effects-problem)\n",
      " (:domain robot_with_simulated_effects-domain)\n",
      " (:objects\n",
      "   r1 - robot\n",
      "   l0 l1 l2 l3 l4 l5 l6 l7 l8 l9 - location\n",
      " )\n",
      " (:init (at_ r1 l0) (visited r1 l0) (connected l0 l1) (connected l1 l2) (connected l2 l3) (connected l3 l4) (connected l4 l5) (connected l5 l6) (connected l6 l7) (connected l7 l8) (connected l8 l9) (connected l4 l8))\n",
      " (:goal (and ))\n",
      ")\n",
      "\n",
      "(define (problem robot_with_simulated_effects-problem)\n",
      " (:domain robot_with_simulated_effects-domain)\n",
      " (:objects\n",
      "   r1 - robot\n",
      "   l0 l1 l2 l3 l4 l5 l6 l7 l8 l9 - location\n",
      " )\n",
      " (:init (at_ r1 l0) (visited r1 l0) (connected l0 l1) (connected l1 l2) (connected l2 l3) (connected l3 l4) (connected l4 l5) (connected l5 l6) (connected l6 l7) (connected l7 l8) (connected l8 l9) (connected l4 l8))\n",
      "  (:utility (= (visited r1 l5) -5) (= (visited r1 l5) 4) (= (visited r1 l5) 20))\n",
      " (:bound 3)\n",
      "\n",
      ")\n",
      "\n",
      "INFO     planner time limit: None\n",
      "INFO     planner memory limit: None\n",
      "\n",
      "INFO     Running translator.\n",
      "INFO     translator stdin: None\n",
      "INFO     translator time limit: None\n",
      "INFO     translator memory limit: None\n",
      "INFO     translator command line string: /home/david/miniconda3/envs/aiplan4eu3.10/bin/python /home/david/miniconda3/envs/aiplan4eu3.10/lib/python3.10/site-packages/up_symk/symk/builds/release/bin/translate/translate.py /tmp/tmp6c_pki0r/domain.pddl /tmp/tmp6c_pki0r/problem.pddl --sas-file output.sas\n",
      "Parsing...\n",
      "b'Traceback (most recent call last):\\n  File \"/home/david/miniconda3/envs/aiplan4eu3.10/lib/python3.10/site-packages/up_symk/symk/builds/release/bin/translate/translate.py\", line 723, in <module>\\n    main()\\n  File \"/home/david/miniconda3/envs/aiplan4eu3.10/lib/python3.10/site-packages/up_symk/symk/builds/release/bin/translate/translate.py\", line 681, in main\\n    task = pddl_parser.open(\\n  File \"/home/david/miniconda3/envs/aiplan4eu3.10/lib/python3.10/site-packages/up_symk/symk/builds/release/bin/translate/pddl_parser/pddl_file.py\", line 33, in open\\n    return parsing_functions.parse_task(domain_pddl, task_pddl)\\n  File \"/home/david/miniconda3/envs/aiplan4eu3.10/lib/python3.10/site-packages/up_symk/symk/builds/release/bin/translate/pddl_parser/parsing_functions.py\", line 298, in parse_task\\n    task_name, task_domain_name, task_requirements, objects, init, goal, use_metric = parse_task_pddl(task_pddl, type_dict, predicate_dict)\\n  File \"/home/david/miniconda3/envs/aiplan4eu3.10/lib/python3.10/site-packages/up_symk/symk/builds/release/bin/translate/pddl_parser/parsing_functions.py\", line 463, in parse_task_pddl\\n    assert goal[0] == \":goal\" and len(goal) == 2\\nAssertionError\\n'\n",
      "translate exit code: 30\n",
      "\n",
      "Driver aborting after translate\n",
      "INFO     Planner time: 0.05s\n"
     ]
    },
    {
     "ename": "AssertionError",
     "evalue": "",
     "output_type": "error",
     "traceback": [
      "\u001b[0;31m---------------------------------------------------------------------------\u001b[0m",
      "\u001b[0;31mAssertionError\u001b[0m                            Traceback (most recent call last)",
      "Cell \u001b[0;32mIn[6], line 4\u001b[0m\n\u001b[1;32m      2\u001b[0m result \u001b[38;5;241m=\u001b[39m planner\u001b[38;5;241m.\u001b[39msolve(problem, output_stream\u001b[38;5;241m=\u001b[39msys\u001b[38;5;241m.\u001b[39mstdout)\n\u001b[1;32m      3\u001b[0m plan \u001b[38;5;241m=\u001b[39m result\u001b[38;5;241m.\u001b[39mplan\n\u001b[0;32m----> 4\u001b[0m \u001b[38;5;28;01massert\u001b[39;00m plan \u001b[38;5;129;01mis\u001b[39;00m \u001b[38;5;129;01mnot\u001b[39;00m \u001b[38;5;28;01mNone\u001b[39;00m\n\u001b[1;32m      5\u001b[0m \u001b[38;5;28mprint\u001b[39m(\u001b[38;5;124m\"\u001b[39m\u001b[38;5;132;01m%s\u001b[39;00m\u001b[38;5;124m returned: \u001b[39m\u001b[38;5;132;01m%s\u001b[39;00m\u001b[38;5;124m\"\u001b[39m \u001b[38;5;241m%\u001b[39m (planner\u001b[38;5;241m.\u001b[39mname, result\u001b[38;5;241m.\u001b[39mplan))\n",
      "\u001b[0;31mAssertionError\u001b[0m: "
     ]
    }
   ],
   "source": [
    "with OneshotPlanner(name=\"symk\") as planner:\n",
    "    result = planner.solve(problem, output_stream=sys.stdout)\n",
    "    plan = result.plan\n",
    "    assert plan is not None\n",
    "    print(\"%s returned: %s\" % (planner.name, result.plan))"
   ]
  },
  {
   "cell_type": "code",
   "execution_count": null,
   "id": "d254227b",
   "metadata": {},
   "outputs": [],
   "source": [
    "# Validator\n",
    "pv = PlanValidator(problem_kind=problem.kind)\n",
    "pv_res = pv.validate(problem, result.plan)\n",
    "pv_res.metric_evaluations[problem.quality_metrics[0]]"
   ]
  }
 ],
 "metadata": {
  "kernelspec": {
   "display_name": "aiplan4eu3.10",
   "language": "python",
   "name": "aiplan4eu3.10"
  },
  "language_info": {
   "codemirror_mode": {
    "name": "ipython",
    "version": 3
   },
   "file_extension": ".py",
   "mimetype": "text/x-python",
   "name": "python",
   "nbconvert_exporter": "python",
   "pygments_lexer": "ipython3",
   "version": "3.10.11"
  }
 },
 "nbformat": 4,
 "nbformat_minor": 5
}
