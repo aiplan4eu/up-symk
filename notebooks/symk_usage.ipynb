{
 "cells": [
  {
   "cell_type": "code",
   "execution_count": 1,
   "id": "54204a66",
   "metadata": {},
   "outputs": [],
   "source": [
    "import sys\n",
    "import unified_planning as up\n",
    "import up_symk\n",
    "import up_fast_downward\n",
    "from unified_planning.shortcuts import *\n",
    "from unified_planning.io import PDDLReader"
   ]
  },
  {
   "cell_type": "code",
   "execution_count": 2,
   "id": "db40758b",
   "metadata": {},
   "outputs": [],
   "source": [
    "# Read a simple PDDL gripper problem from file\n",
    "\n",
    "reader = PDDLReader()\n",
    "pddl_problem = reader.parse_problem(\"gripper-domain.pddl\", \"gripper-prob01.pddl\")\n",
    "pddl_problem.add_quality_metric(MinimizeSequentialPlanLength())\n",
    "\n",
    "# Validator\n",
    "pv = PlanValidator(problem_kind=pddl_problem.kind)"
   ]
  },
  {
   "cell_type": "code",
   "execution_count": 5,
   "id": "23a8eefa",
   "metadata": {},
   "outputs": [
    {
     "name": "stdout",
     "output_type": "stream",
     "text": [
      "\u001b[96m  *** Credits ***\n",
      "\u001b[0m\u001b[96m  * In operation mode `OneshotPlanner` at line 3 of `/tmp/ipykernel_17750/1651508481.py`, \u001b[0m\u001b[96myou are using the following planning engine:\n",
      "\u001b[0m\u001b[96m  * Engine name: SymK\n",
      "  * Developers:  David Speck (cf. https://github.com/speckdavid/symk/blob/master/README.md)\n",
      "\u001b[0m\u001b[96m  * Description: \u001b[0m\u001b[96mSymK is a state-of-the-art domain-independent classical optimal and top-k planner.\u001b[0m\u001b[96m\n",
      "\u001b[0m\u001b[96m\n",
      "\u001b[0mSymK (with optimality guarantee) found this plan: [pick(ball2, rooma, right), pick(ball1, rooma, left), move(rooma, roomb), drop(ball2, roomb, right), drop(ball1, roomb, left), move(roomb, rooma), pick(ball3, rooma, left), pick(ball4, rooma, right), move(rooma, roomb), drop(ball3, roomb, left), drop(ball4, roomb, right)] with cost 11.\n"
     ]
    }
   ],
   "source": [
    "# Solve problem optimally with symk (bidirectional symbolic search)\n",
    "\n",
    "with OneshotPlanner(name='symk-opt') as planner:\n",
    "    result = planner.solve(pddl_problem) # output_stream=sys.stdout\n",
    "    if result.status in unified_planning.engines.results.POSITIVE_OUTCOMES:\n",
    "        pv_res = pv.validate(pddl_problem, result.plan)\n",
    "        cost = pv_res.metric_evaluations[pddl_problem.quality_metrics[0]]\n",
    "        print(f\"{planner.name} found this plan: {result.plan} with cost {cost}.\")\n",
    "    else:\n",
    "        print(\"No plan found.\")"
   ]
  },
  {
   "cell_type": "code",
   "execution_count": 6,
   "id": "8d28bee7",
   "metadata": {},
   "outputs": [
    {
     "name": "stdout",
     "output_type": "stream",
     "text": [
      "\u001b[96m  *** Credits ***\n",
      "\u001b[0m\u001b[96m  * In operation mode `AnytimePlanner` at line 3 of `/tmp/ipykernel_17750/1499908851.py`, \u001b[0m\u001b[96myou are using the following planning engine:\n",
      "\u001b[0m\u001b[96m  * Engine name: SymK\n",
      "  * Developers:  David Speck (cf. https://github.com/speckdavid/symk/blob/master/README.md)\n",
      "\u001b[0m\u001b[96m  * Description: \u001b[0m\u001b[96mSymK is a state-of-the-art domain-independent classical optimal and top-k planner.\u001b[0m\u001b[96m\n",
      "\u001b[0m\u001b[96m\n",
      "\u001b[0mPlan 1: [pick(ball2, rooma, right), pick(ball1, rooma, left), move(rooma, roomb), drop(ball1, roomb, left), drop(ball2, roomb, right), move(roomb, rooma), pick(ball3, rooma, left), pick(ball4, rooma, right), move(rooma, roomb), drop(ball3, roomb, left), drop(ball4, roomb, right)] with cost 11.\n",
      "\n",
      "Plan 2: [pick(ball2, rooma, right), pick(ball1, rooma, left), move(rooma, roomb), drop(ball1, roomb, left), drop(ball2, roomb, right), move(roomb, rooma), pick(ball3, rooma, left), pick(ball4, rooma, right), move(rooma, roomb), drop(ball4, roomb, right), drop(ball3, roomb, left)] with cost 11.\n",
      "\n",
      "Plan 3: [pick(ball2, rooma, right), pick(ball1, rooma, left), move(rooma, roomb), drop(ball1, roomb, left), drop(ball2, roomb, right), move(roomb, rooma), pick(ball4, rooma, left), pick(ball3, rooma, right), move(rooma, roomb), drop(ball3, roomb, right), drop(ball4, roomb, left)] with cost 11.\n",
      "\n",
      "Plan 4: [pick(ball2, rooma, right), pick(ball1, rooma, left), move(rooma, roomb), drop(ball1, roomb, left), drop(ball2, roomb, right), move(roomb, rooma), pick(ball4, rooma, left), pick(ball3, rooma, right), move(rooma, roomb), drop(ball4, roomb, left), drop(ball3, roomb, right)] with cost 11.\n",
      "\n",
      "Plan 5: [pick(ball2, rooma, right), pick(ball1, rooma, left), move(rooma, roomb), drop(ball1, roomb, left), drop(ball2, roomb, right), move(roomb, rooma), pick(ball3, rooma, right), pick(ball4, rooma, left), move(rooma, roomb), drop(ball3, roomb, right), drop(ball4, roomb, left)] with cost 11.\n",
      "\n",
      "SymK (with optimality guarantee) found 5 optimal plans.\n"
     ]
    }
   ],
   "source": [
    "# Find the best 10 with SymK (10 is currently hardcoded)\n",
    "\n",
    "with AnytimePlanner(name='symk-opt', params={\"number_of_plans\": 5}) as planner:\n",
    "    for i, result in enumerate(planner.get_solutions(pddl_problem)): # output_stream=sys.stdout): \n",
    "        if result.status == up.engines.PlanGenerationResultStatus.INTERMEDIATE:\n",
    "            pv_res = pv.validate(pddl_problem, result.plan)\n",
    "            cost = pv_res.metric_evaluations[pddl_problem.quality_metrics[0]]\n",
    "            print(f\"Plan {i+1}: {result.plan} with cost {cost}.\")\n",
    "            print()\n",
    "        elif result.status in unified_planning.engines.results.POSITIVE_OUTCOMES:\n",
    "            print(f\"{planner.name} found {i} optimal plans.\")\n",
    "        elif result.status not in unified_planning.engines.results.POSITIVE_OUTCOMES:\n",
    "            print(\"No plan found.\") "
   ]
  }
 ],
 "metadata": {
  "kernelspec": {
   "display_name": "aiplan4eu3.10",
   "language": "python",
   "name": "aiplan4eu3.10"
  },
  "language_info": {
   "codemirror_mode": {
    "name": "ipython",
    "version": 3
   },
   "file_extension": ".py",
   "mimetype": "text/x-python",
   "name": "python",
   "nbconvert_exporter": "python",
   "pygments_lexer": "ipython3",
   "version": "3.10.11"
  }
 },
 "nbformat": 4,
 "nbformat_minor": 5
}
